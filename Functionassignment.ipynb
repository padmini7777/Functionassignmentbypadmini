{
  "nbformat": 4,
  "nbformat_minor": 0,
  "metadata": {
    "colab": {
      "provenance": []
    },
    "kernelspec": {
      "name": "python3",
      "display_name": "Python 3"
    },
    "language_info": {
      "name": "python"
    }
  },
  "cells": [
    {
      "cell_type": "markdown",
      "source": [
        "### 1. What is the difference between a function and a method in Python?"
      ],
      "metadata": {
        "id": "kezz5YAjJYHj"
      }
    },
    {
      "cell_type": "markdown",
      "source": [
        "Ans- A **function** is a block of code defined outside a class and called independently.\n",
        "\n",
        "Example: **len(\"hello\")**.\n",
        "\n",
        "A **method** is a function associated with an object and called using dot notation.\n",
        "\n",
        "Example: **my_list.append(3)**."
      ],
      "metadata": {
        "id": "w8iV-f8SJYn4"
      }
    },
    {
      "cell_type": "markdown",
      "source": [
        "### 2. Explain the concept of function arguments and parameters in Python."
      ],
      "metadata": {
        "id": "pjXYDDSoJ97u"
      }
    },
    {
      "cell_type": "markdown",
      "source": [
        "Ans-\n",
        "\n",
        "-  **Parameters** are variables in a function's definition.\n",
        "\n",
        "- **Arguments** are actual values passed during a function call.\n",
        "\n",
        "Example:"
      ],
      "metadata": {
        "id": "M3G55MCFRETr"
      }
    },
    {
      "cell_type": "code",
      "source": [
        "def greet(name):  # 'name' is a parameter\n",
        "    print(f\"Hello, {name}\")\n",
        "greet(\"Alice\")   # \"Alice\" is an argument"
      ],
      "metadata": {
        "colab": {
          "base_uri": "https://localhost:8080/"
        },
        "id": "vjRWpUDGRX2y",
        "outputId": "0dabe467-8a68-41ae-a6d6-b587d8bf54b6"
      },
      "execution_count": 1,
      "outputs": [
        {
          "output_type": "stream",
          "name": "stdout",
          "text": [
            "Hello, Alice\n"
          ]
        }
      ]
    },
    {
      "cell_type": "markdown",
      "source": [
        "### 3. What are the different ways to define and call a function in Python?"
      ],
      "metadata": {
        "id": "XzZ0kSw-RtTC"
      }
    },
    {
      "cell_type": "markdown",
      "source": [
        "Ans-\n",
        "\n",
        "- Define with **def** or **lambda**.\n",
        "\n",
        "- Call with positional, keyword, or default arguments.\n",
        "\n",
        "Example:"
      ],
      "metadata": {
        "id": "w8jhoU6jR1oh"
      }
    },
    {
      "cell_type": "code",
      "source": [
        "def multiply(a, b=2):  # Default parameter\n",
        "    return a * b\n",
        "multiply(3)       # Returns 6 (uses default)\n",
        "multiply(b=4, a=2) # Keyword arguments (return 8)"
      ],
      "metadata": {
        "colab": {
          "base_uri": "https://localhost:8080/"
        },
        "id": "lnDkqsfiSTay",
        "outputId": "a1face14-acca-445e-e905-b7f26801329c"
      },
      "execution_count": 2,
      "outputs": [
        {
          "output_type": "execute_result",
          "data": {
            "text/plain": [
              "8"
            ]
          },
          "metadata": {},
          "execution_count": 2
        }
      ]
    },
    {
      "cell_type": "markdown",
      "source": [
        "### 4. What is the purpose of the `return` statement in a Python function?"
      ],
      "metadata": {
        "id": "cCXjtTLcSuB5"
      }
    },
    {
      "cell_type": "markdown",
      "source": [
        "Purpose of return statement:\n",
        "\n",
        "- Exits the function and returns a value. If omitted, the function returns None.\n",
        "\n",
        "Example:"
      ],
      "metadata": {
        "id": "MZ565u-PTJ7b"
      }
    },
    {
      "cell_type": "code",
      "source": [
        "def add(a, b):\n",
        "    return a + b  # Returns sum"
      ],
      "metadata": {
        "id": "2Pur39AST53i"
      },
      "execution_count": 3,
      "outputs": []
    },
    {
      "cell_type": "markdown",
      "source": [
        "### 5. What are iterators in Python and how do they differ from iterables?"
      ],
      "metadata": {
        "id": "f0Vct26zUCYB"
      }
    },
    {
      "cell_type": "markdown",
      "source": [
        "Iterators vs Iterables:\n",
        "\n",
        "**Iterable**: An object that can return an iterator (e.g., list, string).\n",
        "\n",
        "**Iterator**: An object with state (e.g., iter([1,2,3])).\n",
        "\n",
        "Example:"
      ],
      "metadata": {
        "id": "JXlT2kJ9UEQJ"
      }
    },
    {
      "cell_type": "code",
      "source": [
        "my_list = [1, 2, 3]  # Iterable\n",
        "iterator = iter(my_list)  # Iterator\n",
        "print(next(iterator))"
      ],
      "metadata": {
        "colab": {
          "base_uri": "https://localhost:8080/"
        },
        "id": "AViiQit4URsB",
        "outputId": "a1da63c0-adf1-4333-f849-1a242c4010b8"
      },
      "execution_count": 4,
      "outputs": [
        {
          "output_type": "stream",
          "name": "stdout",
          "text": [
            "1\n"
          ]
        }
      ]
    },
    {
      "cell_type": "markdown",
      "source": [
        "### 6. Explain the concept of generators in Python and how they are defined."
      ],
      "metadata": {
        "id": "oZNbDsvdUVHK"
      }
    },
    {
      "cell_type": "markdown",
      "source": [
        "**Generators**:\n",
        "\n",
        "- Defined using yield to produce values lazily.\n",
        "\n",
        "Example:"
      ],
      "metadata": {
        "id": "UcM2OVZ7UaBZ"
      }
    },
    {
      "cell_type": "code",
      "source": [
        "def count_up_to(n):\n",
        "    i = 0\n",
        "    while i < n:\n",
        "        yield i\n",
        "        i += 1"
      ],
      "metadata": {
        "id": "13Fn9HHHUj55"
      },
      "execution_count": 5,
      "outputs": []
    },
    {
      "cell_type": "markdown",
      "source": [
        "### 7. What are the advantages of using generators over regular functions?"
      ],
      "metadata": {
        "id": "uuocx4-cUn4K"
      }
    },
    {
      "cell_type": "markdown",
      "source": [
        "**Advantages of generators**:\n",
        "\n",
        "- Memory-efficient for large datasets.\n",
        "\n",
        "- Values are generated on-the-fly.\n",
        "\n",
        "Example: Generating an infinite sequence without storing all elements."
      ],
      "metadata": {
        "id": "_hnzHtXbUsT4"
      }
    },
    {
      "cell_type": "markdown",
      "source": [
        "###8. What is a lambda function in Python and when is it typically used?"
      ],
      "metadata": {
        "id": "JVZpi_TAU5w5"
      }
    },
    {
      "cell_type": "markdown",
      "source": [
        "**Lambda function**:\n",
        "\n",
        "Anonymous function defined with lambda. Used for short operations.\n",
        "\n",
        "Example:"
      ],
      "metadata": {
        "id": "7gn6L6ejU-JQ"
      }
    },
    {
      "cell_type": "code",
      "source": [
        "square = lambda x: x ** 2\n",
        "print(square(4))"
      ],
      "metadata": {
        "colab": {
          "base_uri": "https://localhost:8080/"
        },
        "id": "maFl1jkPVFmx",
        "outputId": "baffdf86-ec3c-4deb-96a0-05d7fbf70734"
      },
      "execution_count": 9,
      "outputs": [
        {
          "output_type": "stream",
          "name": "stdout",
          "text": [
            "16\n"
          ]
        }
      ]
    },
    {
      "cell_type": "markdown",
      "source": [
        "### 9. Explain the purpose and usage of the `map()` function in Python."
      ],
      "metadata": {
        "id": "p8LRS89UVM4C"
      }
    },
    {
      "cell_type": "markdown",
      "source": [
        "Ans- **map() function**:\n",
        "\n",
        "- Applies a function to all items in an iterable.\n",
        "\n",
        "Example:"
      ],
      "metadata": {
        "id": "eJiWCwOAVR9y"
      }
    },
    {
      "cell_type": "code",
      "source": [
        "numbers = [1, 2, 3]\n",
        "squared = map(lambda x: x**2, numbers)  # [1, 4, 9]"
      ],
      "metadata": {
        "id": "jXA7sf0Pfy_x"
      },
      "execution_count": 24,
      "outputs": []
    },
    {
      "cell_type": "markdown",
      "source": [
        " ### 10. What is the difference between `map()`, `reduce()`, and `filter()` functions in Python?"
      ],
      "metadata": {
        "id": "JlOb_7VaVrFR"
      }
    },
    {
      "cell_type": "markdown",
      "source": [
        "Ans-**map()**, **reduce()**, **filter()**:\n",
        "\n",
        "- **map()**: Transforms items.\n",
        "\n",
        "- **filter()**: Selects items based on a condition.\n",
        "\n",
        "- **reduce()**: Aggregates items into a single value.\n",
        "\n",
        "Example:"
      ],
      "metadata": {
        "id": "LsWbs4n3V0w4"
      }
    },
    {
      "cell_type": "code",
      "source": [
        "from functools import reduce\n",
        "reduce(lambda a, b: a + b, [1, 2, 3])"
      ],
      "metadata": {
        "colab": {
          "base_uri": "https://localhost:8080/"
        },
        "id": "2WvHwcZIWIUx",
        "outputId": "4e8509e6-8665-4ce8-c013-ba72dd06a09c"
      },
      "execution_count": 10,
      "outputs": [
        {
          "output_type": "execute_result",
          "data": {
            "text/plain": [
              "6"
            ]
          },
          "metadata": {},
          "execution_count": 10
        }
      ]
    },
    {
      "cell_type": "markdown",
      "source": [
        "###11. Using pen & Paper write the internal mechanism for sum operation using  reduce function on this given list:[47,11,42,13];"
      ],
      "metadata": {
        "id": "cm5WdoO7ePup"
      }
    },
    {
      "cell_type": "markdown",
      "source": [
        "Ans- I added the image in google doc."
      ],
      "metadata": {
        "id": "27SMv1YuewRi"
      }
    },
    {
      "cell_type": "markdown",
      "source": [
        "##PRACTICAL QUESTIONS"
      ],
      "metadata": {
        "id": "Pr-MWvIrW0g5"
      }
    },
    {
      "cell_type": "markdown",
      "source": [
        "### 1. Write a Python function that takes a list of numbers as input and returns the sum of all even numbers in the list."
      ],
      "metadata": {
        "id": "THMyzyjLW-zZ"
      }
    },
    {
      "cell_type": "code",
      "source": [
        "def sum_even(numbers):\n",
        "    return sum(num for num in numbers if num % 2 == 0)"
      ],
      "metadata": {
        "id": "R4Fht6aJXGWS"
      },
      "execution_count": 12,
      "outputs": []
    },
    {
      "cell_type": "markdown",
      "source": [
        "### 2. Create a Python function that accepts a string and returns the reverse of that string."
      ],
      "metadata": {
        "id": "kra4aCeNXQC6"
      }
    },
    {
      "cell_type": "code",
      "source": [
        "def reverse_string(s):\n",
        "    return s[::-1]"
      ],
      "metadata": {
        "id": "eXa0PpqEXVUR"
      },
      "execution_count": 11,
      "outputs": []
    },
    {
      "cell_type": "markdown",
      "source": [
        "### 3. Implement a Python function that takes a list of integers and returns a new list containing the squares of each number."
      ],
      "metadata": {
        "id": "IXZtKNJRXZ7J"
      }
    },
    {
      "cell_type": "code",
      "source": [
        "def square_list(numbers):\n",
        "    return [x**2 for x in numbers]"
      ],
      "metadata": {
        "id": "Qsh1fVqsXfJZ"
      },
      "execution_count": 13,
      "outputs": []
    },
    {
      "cell_type": "markdown",
      "source": [
        "###4. Write a Python function that checks if a given number is prime or not from 1 to 200."
      ],
      "metadata": {
        "id": "UANyLlxxXi6B"
      }
    },
    {
      "cell_type": "code",
      "source": [
        "def is_prime(n):\n",
        "    if n <= 1:\n",
        "        return False\n",
        "    for i in range(2, int(n**0.5)+1):\n",
        "        if n % i == 0:\n",
        "            return False\n",
        "    return True"
      ],
      "metadata": {
        "id": "O8EGztcgXnLR"
      },
      "execution_count": 14,
      "outputs": []
    },
    {
      "cell_type": "markdown",
      "source": [
        "### 5. Create an iterator class in Python that generates the Fibonacci sequence up to a specified number of terms."
      ],
      "metadata": {
        "id": "XVCZvrw9XyWS"
      }
    },
    {
      "cell_type": "code",
      "source": [
        "class FibonacciIterator:\n",
        "    def __init__(self, terms):\n",
        "        self.terms = terms\n",
        "        self.a, self.b = 0, 1\n",
        "        self.count = 0\n",
        "    def __iter__(self):\n",
        "        return self\n",
        "    def __next__(self):\n",
        "        if self.count >= self.terms:\n",
        "            raise StopIteration\n",
        "        result = self.a\n",
        "        self.a, self.b = self.b, self.a + self.b\n",
        "        self.count += 1\n",
        "        return result"
      ],
      "metadata": {
        "id": "l2Zijbk2X4jZ"
      },
      "execution_count": 15,
      "outputs": []
    },
    {
      "cell_type": "markdown",
      "source": [
        "### 6. Write a generator function in Python that yields the powers of 2 up to a given exponent."
      ],
      "metadata": {
        "id": "QyEkMCbwYCrK"
      }
    },
    {
      "cell_type": "code",
      "source": [
        "def powers_of_two(exponent):\n",
        "    for i in range(exponent + 1):\n",
        "        yield 2 ** i"
      ],
      "metadata": {
        "id": "H3F1XbvrYHcw"
      },
      "execution_count": 16,
      "outputs": []
    },
    {
      "cell_type": "markdown",
      "source": [
        "### 7. Implement a generator function that reads a file line by line and yields each line as a string."
      ],
      "metadata": {
        "id": "dn_66-1kYMCy"
      }
    },
    {
      "cell_type": "code",
      "source": [
        "def read_lines(filename):\n",
        "    with open(filename, 'r') as file:\n",
        "        for line in file:\n",
        "            yield line.strip()"
      ],
      "metadata": {
        "id": "eotawOZ-YRDZ"
      },
      "execution_count": 18,
      "outputs": []
    },
    {
      "cell_type": "markdown",
      "source": [
        "### 8. Use a lambda function in Python to sort a list of tuples based on the second element of each tuple."
      ],
      "metadata": {
        "id": "U7hDCSL3YUtM"
      }
    },
    {
      "cell_type": "code",
      "source": [
        "list_of_tuples = [(\"apple\", 3), (\"banana\", 1), (\"cherry\", 2)]\n",
        "\n",
        "# Sort the list based on the second element of each tuple using lambda\n",
        "sorted_list = sorted(list_of_tuples, key=lambda x: x[1])\n",
        "print(\"Sorted list:\", sorted_list)"
      ],
      "metadata": {
        "colab": {
          "base_uri": "https://localhost:8080/"
        },
        "id": "9n2KdfiuYkr6",
        "outputId": "118a9122-d477-4382-a318-0d8354c2c234"
      },
      "execution_count": 20,
      "outputs": [
        {
          "output_type": "stream",
          "name": "stdout",
          "text": [
            "Sorted list: [('banana', 1), ('cherry', 2), ('apple', 3)]\n"
          ]
        }
      ]
    },
    {
      "cell_type": "markdown",
      "source": [
        "### 9. Write a Python program that uses `map()` to convert a list of temperatures from Celsius to Fahrenheit."
      ],
      "metadata": {
        "id": "18W8KzXSZl0S"
      }
    },
    {
      "cell_type": "code",
      "source": [
        "celsius = [0, 10, 20, 30]\n",
        "fahrenheit = list(map(lambda c: (9/5)*c + 32, celsius))"
      ],
      "metadata": {
        "id": "Qj_BP8MnZqei"
      },
      "execution_count": 21,
      "outputs": []
    },
    {
      "cell_type": "markdown",
      "source": [
        "### 10. Create a Python program that uses `filter()` to remove all the vowels from a given string."
      ],
      "metadata": {
        "id": "gxV0f8eOZ5OK"
      }
    },
    {
      "cell_type": "code",
      "source": [
        "def remove_vowels(s):\n",
        "    return ''.join(filter(lambda c: c.lower() not in 'aeiou', s))"
      ],
      "metadata": {
        "id": "T1LVv6FLZ8wZ"
      },
      "execution_count": 22,
      "outputs": []
    },
    {
      "cell_type": "markdown",
      "source": [
        "### 11) Imagine an accounting routine used in a book shop. It works on a list with sublists, which look like this:\n",
        " Write a Python program, which returns a list with 2-tuples. Each tuple consists of the order number and the\n",
        "product of the price per item and the quantity. The product should be increased by 10,- € if the value of the\n",
        "order is smaller than 100,00 €.\n",
        " Write a Python program using lambda and map"
      ],
      "metadata": {
        "id": "j7foUrYxaN7q"
      }
    },
    {
      "cell_type": "code",
      "source": [
        "orders = [\n",
        "    [34587, \"Learning Python, Mark Lutz\", 4, 40.95],\n",
        "    [98762, \"Programming Python, Mark Lutz\", 5, 56.80],\n",
        "    [77226, \"Head First Python, Paul Barry\", 3, 32.95],\n",
        "    [88112, \"Einführung in Python3, Bernd Klein\", 3, 24.99]\n",
        "]\n",
        "\n",
        "# Apply lambda to each order to compute the adjusted product\n",
        "processed_orders = list(map(\n",
        "    lambda order: (\n",
        "        order[0],\n",
        "        order[2] * order[3] + 10 if (order[2] * order[3] < 100) else (order[2] * order[3])\n",
        "    ),\n",
        "    orders\n",
        "))\n",
        "\n",
        "print(processed_orders)"
      ],
      "metadata": {
        "colab": {
          "base_uri": "https://localhost:8080/"
        },
        "id": "gx47l2D5aZtR",
        "outputId": "bc0b15a4-81cd-4792-81e7-8c6ec93582d8"
      },
      "execution_count": 23,
      "outputs": [
        {
          "output_type": "stream",
          "name": "stdout",
          "text": [
            "[(34587, 163.8), (98762, 284.0), (77226, 108.85000000000001), (88112, 84.97)]\n"
          ]
        }
      ]
    },
    {
      "cell_type": "markdown",
      "source": [
        "##THANK YOU :)"
      ],
      "metadata": {
        "id": "N25luxB5apYa"
      }
    }
  ]
}